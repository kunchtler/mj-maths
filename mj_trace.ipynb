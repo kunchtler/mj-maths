{
 "cells": [
  {
   "cell_type": "markdown",
   "metadata": {},
   "source": [
    "# Basic Counting of musical traces\n",
    "\n",
    "(old notebook from november 2024)\n",
    "\n",
    "We define multiple functions to count multiple traces, namely :\n",
    "- Jugglable musics of length n, with max height h, and b different balls\n",
    "- Jugglable musics of length n, with max height h, and b identical balls\n",
    "\n",
    "For each of those, we can add a periodicity condition, and delete cyclic shifts\n",
    "\n",
    "All follow Vanilla Siteswap for now.\n",
    "Later experiment with :\n",
    "- multiplex with k balls in hand at max\n",
    "- mixing different and identical balls\n",
    "\n",
    "Another way to proceed would be to construct automaton\n",
    "\n",
    "Note : for b balls, be cautious of the first b/h elements of the sequence : it is possible a note will never occur."
   ]
  },
  {
   "cell_type": "code",
   "execution_count": 2,
   "metadata": {},
   "outputs": [],
   "source": [
    "from itertools import product"
   ]
  },
  {
   "cell_type": "code",
   "execution_count": null,
   "metadata": {},
   "outputs": [
    {
     "data": {
      "text/plain": [
       "[(1, 2, 1), (2, 1, 2)]"
      ]
     },
     "execution_count": 4,
     "metadata": {},
     "output_type": "execute_result"
    }
   ],
   "source": [
    "def insert(L: list[int], new_elem: int):\n",
    "    \"\"\"Inserts \n",
    "\n",
    "    Args:\n",
    "        l (list[int]): _description_\n",
    "        new_elem (int): _description_\n",
    "    \"\"\"\n",
    "    for i in range(len(L) - 1):\n",
    "        L[i] = L[i+1]\n",
    "    L[-1] = new_elem\n",
    "\n",
    "def iter_identical(n: int, h: int, b:int=1):\n",
    "    for seq in product([0, 1], repeat=n):\n",
    "        last_ones_occurences = [-1]*b\n",
    "        for i, elem in enumerate(seq):\n",
    "            if elem == 1:\n",
    "                insert(last_ones_occurences, i)\n",
    "            if i - last_ones_occurences[0] >= h:\n",
    "                break\n",
    "        else:\n",
    "            yield seq\n",
    "        \n",
    "def iter_different(n: int, h: int, b:int=1):\n",
    "    for seq in product(range(b+1), repeat=n):\n",
    "        last_balls_occurences = [0] + [-1]*b\n",
    "        for i, elem in enumerate(seq):\n",
    "            if elem != 0:\n",
    "                if i - last_balls_occurences[elem] > h:\n",
    "                    break\n",
    "                last_balls_occurences[elem] = i\n",
    "        else:\n",
    "            # Additional check at the end\n",
    "            for i in range(1, len(last_balls_occurences)):\n",
    "                if n - last_balls_occurences[i] > h:\n",
    "                    break\n",
    "            else:\n",
    "                yield seq\n",
    "\n",
    "list(iter_different(3, 2, 2))\n",
    "\n",
    "# def iter_different(n: int, h: int):\n",
    "#     for seq in product([0, 1], repeat=n):\n",
    "#         last_one = -1\n",
    "#         for i, elem in enumerate(seq):\n",
    "#             if elem == 1:\n",
    "#                 last_one = i\n",
    "#             if i - last_one >= h:\n",
    "#                 break\n",
    "#         else:\n",
    "#             yield seq"
   ]
  },
  {
   "cell_type": "code",
   "execution_count": 76,
   "metadata": {},
   "outputs": [
    {
     "data": {
      "text/plain": [
       "[(1, 2, 3, 1, 2),\n",
       " (1, 3, 2, 1, 3),\n",
       " (2, 1, 3, 2, 1),\n",
       " (2, 3, 1, 2, 3),\n",
       " (3, 1, 2, 3, 1),\n",
       " (3, 2, 1, 3, 2)]"
      ]
     },
     "execution_count": 76,
     "metadata": {},
     "output_type": "execute_result"
    }
   ],
   "source": [
    "list(iter_different(5, 3, 3))"
   ]
  },
  {
   "cell_type": "code",
   "execution_count": 80,
   "metadata": {},
   "outputs": [
    {
     "name": "stdout",
     "output_type": "stream",
     "text": [
      "1\n",
      "3\n",
      "9\n",
      "27\n",
      "81\n",
      "180\n",
      "480\n",
      "1268\n",
      "3320\n",
      "8636\n",
      "22448\n",
      "58628\n",
      "152944\n",
      "398788\n"
     ]
    },
    {
     "ename": "KeyboardInterrupt",
     "evalue": "",
     "output_type": "error",
     "traceback": [
      "\u001b[0;31m---------------------------------------------------------------------------\u001b[0m",
      "\u001b[0;31mKeyboardInterrupt\u001b[0m                         Traceback (most recent call last)",
      "Cell \u001b[0;32mIn[80], line 2\u001b[0m\n\u001b[1;32m      1\u001b[0m \u001b[38;5;28;01mfor\u001b[39;00m n \u001b[38;5;129;01min\u001b[39;00m \u001b[38;5;28mrange\u001b[39m(\u001b[38;5;241m20\u001b[39m):\n\u001b[0;32m----> 2\u001b[0m     \u001b[38;5;28mprint\u001b[39m(\u001b[38;5;28mlen\u001b[39m(\u001b[38;5;28;43mlist\u001b[39;49m\u001b[43m(\u001b[49m\u001b[43miter_different\u001b[49m\u001b[43m(\u001b[49m\u001b[43mn\u001b[49m\u001b[43m,\u001b[49m\u001b[43m \u001b[49m\u001b[38;5;241;43m5\u001b[39;49m\u001b[43m,\u001b[49m\u001b[43m \u001b[49m\u001b[38;5;241;43m2\u001b[39;49m\u001b[43m)\u001b[49m\u001b[43m)\u001b[49m))\n",
      "Cell \u001b[0;32mIn[64], line 31\u001b[0m, in \u001b[0;36miter_different\u001b[0;34m(n, h, b)\u001b[0m\n\u001b[1;32m     29\u001b[0m         \u001b[38;5;28;01mbreak\u001b[39;00m\n\u001b[1;32m     30\u001b[0m \u001b[38;5;28;01melse\u001b[39;00m:\n\u001b[0;32m---> 31\u001b[0m     \u001b[38;5;28;01myield\u001b[39;00m seq\n",
      "File \u001b[0;32m~/miniforge3/envs/these/lib/python3.12/site-packages/debugpy/_vendored/pydevd/_pydevd_bundle/pydevd_trace_dispatch_regular.py:398\u001b[0m, in \u001b[0;36mThreadTracer.__call__\u001b[0;34m(self, frame, event, arg)\u001b[0m\n\u001b[1;32m    395\u001b[0m \u001b[38;5;28;01mexcept\u001b[39;00m:\n\u001b[1;32m    396\u001b[0m     abs_path_canonical_path_and_base \u001b[38;5;241m=\u001b[39m get_abs_path_real_path_and_base_from_frame(frame)\n\u001b[0;32m--> 398\u001b[0m file_type \u001b[38;5;241m=\u001b[39m \u001b[43mpy_db\u001b[49m\u001b[38;5;241;43m.\u001b[39;49m\u001b[43mget_file_type\u001b[49m\u001b[43m(\u001b[49m\u001b[43mframe\u001b[49m\u001b[43m,\u001b[49m\u001b[43m \u001b[49m\u001b[43mabs_path_canonical_path_and_base\u001b[49m\u001b[43m)\u001b[49m  \u001b[38;5;66;03m# we don't want to debug threading or anything related to pydevd\u001b[39;00m\n\u001b[1;32m    400\u001b[0m \u001b[38;5;28;01mif\u001b[39;00m file_type \u001b[38;5;129;01mis\u001b[39;00m \u001b[38;5;129;01mnot\u001b[39;00m \u001b[38;5;28;01mNone\u001b[39;00m:\n\u001b[1;32m    401\u001b[0m     \u001b[38;5;28;01mif\u001b[39;00m file_type \u001b[38;5;241m==\u001b[39m \u001b[38;5;241m1\u001b[39m:  \u001b[38;5;66;03m# inlining LIB_FILE = 1\u001b[39;00m\n",
      "File \u001b[0;32m~/miniforge3/envs/these/lib/python3.12/site-packages/debugpy/_vendored/pydevd/pydevd.py:986\u001b[0m, in \u001b[0;36mPyDB.get_file_type\u001b[0;34m(self, frame, abs_real_path_and_basename, _cache_file_type)\u001b[0m\n\u001b[1;32m    982\u001b[0m     \u001b[38;5;66;03m# By default all external files are traced. Note: this function is expected to\u001b[39;00m\n\u001b[1;32m    983\u001b[0m     \u001b[38;5;66;03m# be changed for another function in PyDevdAPI.set_dont_trace_start_end_patterns.\u001b[39;00m\n\u001b[1;32m    984\u001b[0m     \u001b[38;5;28;01mreturn\u001b[39;00m \u001b[38;5;28;01mFalse\u001b[39;00m\n\u001b[0;32m--> 986\u001b[0m \u001b[38;5;28;01mdef\u001b[39;00m \u001b[38;5;21mget_file_type\u001b[39m(\u001b[38;5;28mself\u001b[39m, frame, abs_real_path_and_basename\u001b[38;5;241m=\u001b[39m\u001b[38;5;28;01mNone\u001b[39;00m, _cache_file_type\u001b[38;5;241m=\u001b[39m_CACHE_FILE_TYPE):\n\u001b[1;32m    987\u001b[0m \u001b[38;5;250m    \u001b[39m\u001b[38;5;124;03m'''\u001b[39;00m\n\u001b[1;32m    988\u001b[0m \u001b[38;5;124;03m    :param abs_real_path_and_basename:\u001b[39;00m\n\u001b[1;32m    989\u001b[0m \u001b[38;5;124;03m        The result from get_abs_path_real_path_and_base_from_file or\u001b[39;00m\n\u001b[0;32m   (...)\u001b[0m\n\u001b[1;32m   1001\u001b[0m \u001b[38;5;124;03m            If it's a regular user file which should be traced.\u001b[39;00m\n\u001b[1;32m   1002\u001b[0m \u001b[38;5;124;03m    '''\u001b[39;00m\n\u001b[1;32m   1003\u001b[0m     \u001b[38;5;28;01mif\u001b[39;00m abs_real_path_and_basename \u001b[38;5;129;01mis\u001b[39;00m \u001b[38;5;28;01mNone\u001b[39;00m:\n",
      "\u001b[0;31mKeyboardInterrupt\u001b[0m: "
     ]
    }
   ],
   "source": [
    "for n in range(20):\n",
    "    print(len(list(iter_different(n, 5, 2))))"
   ]
  },
  {
   "cell_type": "code",
   "execution_count": null,
   "metadata": {},
   "outputs": [],
   "source": [
    "list(iter_identical(n, 3, 2))"
   ]
  },
  {
   "cell_type": "code",
   "execution_count": null,
   "metadata": {},
   "outputs": [],
   "source": [
    "from typing import Generic, Iterable, TypeVar\n",
    "\n",
    "T = TypeVar(\"T\")\n",
    "\n",
    "class Test(Generic[T]):\n",
    "    def __init__(self, iterable: Iterable[T]):\n",
    "        \n",
    "        "
   ]
  },
  {
   "cell_type": "code",
   "execution_count": null,
   "metadata": {},
   "outputs": [],
   "source": [
    "\n",
    "from itertools import product\n",
    "from typing import Any, Callable, Iterable, ParamSpec, TypeVar\n",
    "\n",
    "def insert(l: Iterable[int], new_elem: int):\n",
    "    for i in range(len(l) - 1):\n",
    "        l[i] = l[i+1]\n",
    "    l[-1] = new_elem\n",
    "\n",
    "def iter_identical(n: int, h: int, b:int=1, periodic=False):\n",
    "    if periodic and n == 0:\n",
    "        nb_it = 0\n",
    "    elif periodic:\n",
    "        nb_it = n + h\n",
    "    else:\n",
    "        nb_it = n\n",
    "    for seq in product([0, 1], repeat=n):\n",
    "        last_ones_occurences = [-1]*b\n",
    "        for i in range(nb_it):\n",
    "            elem = seq[i % n]\n",
    "            if elem == 1:\n",
    "                insert(last_ones_occurences, i)\n",
    "            if i - last_ones_occurences[0] >= h:\n",
    "                break\n",
    "        else:\n",
    "            yield seq\n",
    "        \n",
    "def iter_different(n: int, h: int, b:int=1, periodic:bool=False):\n",
    "    if periodic and n == 0:\n",
    "        nb_it = 0\n",
    "    elif periodic:\n",
    "        nb_it = n + h\n",
    "    else:\n",
    "        nb_it = n\n",
    "    for seq in product(range(b+1), repeat=n):\n",
    "        # Periodic or not, check all balls are in the beginning\n",
    "        present = [False]*(b+1)\n",
    "        present[0] = True\n",
    "        for i in range((min(h, n))):\n",
    "            present[seq[i]] = True\n",
    "        if not all(present):\n",
    "            continue\n",
    "\n",
    "        # If not periodic, also check at the end\n",
    "        # (if periodic, redundant with previous check)\n",
    "        if not periodic:\n",
    "            present = [False]*(b+1)\n",
    "            present[0] = True\n",
    "            for i in range(max(0, n-h), n):\n",
    "                present[seq[i]] = True\n",
    "            if not all(present):\n",
    "                continue\n",
    "\n",
    "        last_balls_occurences = [0] + [-1]*b\n",
    "        for i in range(nb_it):\n",
    "            elem = seq[i % n]\n",
    "            if elem != 0:\n",
    "                if i - last_balls_occurences[elem] > h:\n",
    "                    break\n",
    "                last_balls_occurences[elem] = i\n",
    "        else:\n",
    "            yield seq\n",
    "\n",
    "def left_shift(l: list, idx: int):\n",
    "        return tuple(l[(i + idx) % len(l)] for i in range(len(l)))\n",
    "\n",
    "P = ParamSpec('P')\n",
    "T = TypeVar('T')\n",
    "\n",
    "# Décorateur pour supprimer des solutions qui sont des shifts cycliques d'une déjà trouvée.\n",
    "def no_cyclic(func: Callable[P, Iterable[T]]) -> Callable[P, Iterable[T]]:\n",
    "    def new_function(*args: P.args, **kwargs: P.kwargs):\n",
    "        seen = set()\n",
    "        for elem in func(*args, **kwargs):\n",
    "            for i in range(1, len(elem)):\n",
    "                if left_shift(elem, i) in seen:\n",
    "                    break\n",
    "            else:\n",
    "                seen.add(tuple(elem))\n",
    "                yield elem\n",
    "    return new_function"
   ]
  },
  {
   "cell_type": "code",
   "execution_count": 2,
   "metadata": {},
   "outputs": [],
   "source": [
    "@no_cyclic\n",
    "def iter_different_no_cyclic(n: int, h: int, b:int=1):\n",
    "    yield from iter_different(n, h, b, True)\n",
    "\n",
    "@no_cyclic\n",
    "def iter_identical_no_cyclic(n: int, h: int, b:int=1):\n",
    "    yield from iter_identical(n, h, b, True)"
   ]
  },
  {
   "cell_type": "code",
   "execution_count": 4,
   "metadata": {},
   "outputs": [
    {
     "name": "stdout",
     "output_type": "stream",
     "text": [
      "0\n",
      "0\n",
      "0\n",
      "6\n",
      "60\n",
      "0\n",
      "24\n",
      "126\n",
      "372\n",
      "132\n",
      "600\n",
      "1716\n",
      "3324\n",
      "3354\n",
      "9744\n",
      "21696\n"
     ]
    },
    {
     "ename": "KeyboardInterrupt",
     "evalue": "",
     "output_type": "error",
     "traceback": [
      "\u001b[0;31m---------------------------------------------------------------------------\u001b[0m",
      "\u001b[0;31mKeyboardInterrupt\u001b[0m                         Traceback (most recent call last)",
      "Cell \u001b[0;32mIn[4], line 4\u001b[0m\n\u001b[1;32m      2\u001b[0m b \u001b[38;5;241m=\u001b[39m \u001b[38;5;241m3\u001b[39m\n\u001b[1;32m      3\u001b[0m \u001b[38;5;28;01mfor\u001b[39;00m n \u001b[38;5;129;01min\u001b[39;00m \u001b[38;5;28mrange\u001b[39m(\u001b[38;5;241m20\u001b[39m):\n\u001b[0;32m----> 4\u001b[0m     \u001b[38;5;28mprint\u001b[39m(\u001b[38;5;28mlen\u001b[39m(\u001b[38;5;28;43mlist\u001b[39;49m\u001b[43m(\u001b[49m\u001b[43miter_different\u001b[49m\u001b[43m(\u001b[49m\u001b[43mn\u001b[49m\u001b[43m,\u001b[49m\u001b[43m \u001b[49m\u001b[43mh\u001b[49m\u001b[43m,\u001b[49m\u001b[43m \u001b[49m\u001b[43mb\u001b[49m\u001b[43m,\u001b[49m\u001b[43m \u001b[49m\u001b[38;5;28;43;01mTrue\u001b[39;49;00m\u001b[43m)\u001b[49m\u001b[43m)\u001b[49m))\n",
      "Cell \u001b[0;32mIn[1], line 39\u001b[0m, in \u001b[0;36miter_different\u001b[0;34m(n, h, b, periodic)\u001b[0m\n\u001b[1;32m     37\u001b[0m \u001b[38;5;28;01mfor\u001b[39;00m i \u001b[38;5;129;01min\u001b[39;00m \u001b[38;5;28mrange\u001b[39m((\u001b[38;5;28mmin\u001b[39m(h, n))):\n\u001b[1;32m     38\u001b[0m     present[seq[i]] \u001b[38;5;241m=\u001b[39m \u001b[38;5;28;01mTrue\u001b[39;00m\n\u001b[0;32m---> 39\u001b[0m \u001b[38;5;28;01mif\u001b[39;00m \u001b[38;5;129;01mnot\u001b[39;00m \u001b[38;5;28;43mall\u001b[39;49m\u001b[43m(\u001b[49m\u001b[43mpresent\u001b[49m\u001b[43m)\u001b[49m:\n\u001b[1;32m     40\u001b[0m     \u001b[38;5;28;01mcontinue\u001b[39;00m\n\u001b[1;32m     42\u001b[0m \u001b[38;5;66;03m# If not periodic, also check at the end\u001b[39;00m\n\u001b[1;32m     43\u001b[0m \u001b[38;5;66;03m# (if periodic, redundant with previous check)\u001b[39;00m\n",
      "\u001b[0;31mKeyboardInterrupt\u001b[0m: "
     ]
    }
   ],
   "source": [
    "h = 4\n",
    "b = 3\n",
    "for n in range(20):\n",
    "    print(len(list(iter_different(n, h, b, True))))"
   ]
  },
  {
   "cell_type": "code",
   "execution_count": 6,
   "metadata": {},
   "outputs": [
    {
     "name": "stdout",
     "output_type": "stream",
     "text": [
      "[(0, 0, 1, 2), (0, 0, 2, 1), (0, 1, 0, 2), (0, 1, 1, 2), (0, 1, 2, 0), (0, 1, 2, 1), (0, 1, 2, 2), (0, 2, 0, 1), (0, 2, 1, 0), (0, 2, 1, 1), (0, 2, 1, 2), (0, 2, 2, 1), (1, 0, 0, 2), (1, 0, 1, 2), (1, 0, 2, 0), (1, 0, 2, 1), (1, 0, 2, 2), (1, 1, 0, 2), (1, 1, 1, 2), (1, 1, 2, 0), (1, 1, 2, 1), (1, 1, 2, 2), (1, 2, 0, 0), (1, 2, 0, 1), (1, 2, 0, 2), (1, 2, 1, 0), (1, 2, 1, 1), (1, 2, 1, 2), (1, 2, 2, 0), (1, 2, 2, 1), (1, 2, 2, 2), (2, 0, 0, 1), (2, 0, 1, 0), (2, 0, 1, 1), (2, 0, 1, 2), (2, 0, 2, 1), (2, 1, 0, 0), (2, 1, 0, 1), (2, 1, 0, 2), (2, 1, 1, 0), (2, 1, 1, 1), (2, 1, 1, 2), (2, 1, 2, 0), (2, 1, 2, 1), (2, 1, 2, 2), (2, 2, 0, 1), (2, 2, 1, 0), (2, 2, 1, 1), (2, 2, 1, 2), (2, 2, 2, 1)]\n",
      "[(0, 1, 1, 2, 2), (0, 1, 2, 1, 2), (0, 1, 2, 2, 1), (0, 2, 1, 1, 2), (0, 2, 1, 2, 1), (0, 2, 2, 1, 1), (1, 0, 1, 2, 2), (1, 0, 2, 1, 2), (1, 0, 2, 2, 1), (1, 1, 0, 2, 2), (1, 1, 1, 2, 2), (1, 1, 2, 0, 2), (1, 1, 2, 1, 2), (1, 1, 2, 2, 0), (1, 1, 2, 2, 1), (1, 1, 2, 2, 2), (1, 2, 0, 1, 2), (1, 2, 0, 2, 1), (1, 2, 1, 0, 2), (1, 2, 1, 1, 2), (1, 2, 1, 2, 0), (1, 2, 1, 2, 1), (1, 2, 1, 2, 2), (1, 2, 2, 0, 1), (1, 2, 2, 1, 0), (1, 2, 2, 1, 1), (1, 2, 2, 1, 2), (1, 2, 2, 2, 1), (2, 0, 1, 1, 2), (2, 0, 1, 2, 1), (2, 0, 2, 1, 1), (2, 1, 0, 1, 2), (2, 1, 0, 2, 1), (2, 1, 1, 0, 2), (2, 1, 1, 1, 2), (2, 1, 1, 2, 0), (2, 1, 1, 2, 1), (2, 1, 1, 2, 2), (2, 1, 2, 0, 1), (2, 1, 2, 1, 0), (2, 1, 2, 1, 1), (2, 1, 2, 1, 2), (2, 1, 2, 2, 1), (2, 2, 0, 1, 1), (2, 2, 1, 0, 1), (2, 2, 1, 1, 0), (2, 2, 1, 1, 1), (2, 2, 1, 1, 2), (2, 2, 1, 2, 1), (2, 2, 2, 1, 1)]\n"
     ]
    }
   ],
   "source": [
    "print(list(iter_different(4, 4, 2, True)))\n",
    "print(list(iter_different(5, 4, 2, True)))"
   ]
  },
  {
   "cell_type": "code",
   "execution_count": 14,
   "metadata": {},
   "outputs": [
    {
     "name": "stdout",
     "output_type": "stream",
     "text": [
      "[(0, 1, 1), (1, 0, 1), (1, 1, 0), (1, 1, 1)]\n"
     ]
    }
   ],
   "source": [
    "\n",
    "print(list(iter_identical(3, 3, 2, False)))"
   ]
  },
  {
   "cell_type": "code",
   "execution_count": 13,
   "metadata": {},
   "outputs": [
    {
     "name": "stdout",
     "output_type": "stream",
     "text": [
      "1\n",
      "2\n",
      "4\n",
      "4\n",
      "6\n",
      "9\n",
      "13\n",
      "19\n",
      "28\n",
      "41\n",
      "60\n",
      "88\n",
      "129\n",
      "189\n",
      "277\n",
      "406\n",
      "595\n",
      "872\n",
      "1278\n",
      "1873\n"
     ]
    }
   ],
   "source": [
    "h = 3\n",
    "b = 2\n",
    "periodic = False\n",
    "for n in range(20):\n",
    "    print(len(list(iter_identical(n, h, b, periodic))))"
   ]
  },
  {
   "cell_type": "code",
   "execution_count": null,
   "metadata": {},
   "outputs": [],
   "source": []
  }
 ],
 "metadata": {
  "kernelspec": {
   "display_name": "these",
   "language": "python",
   "name": "python3"
  },
  "language_info": {
   "codemirror_mode": {
    "name": "ipython",
    "version": 3
   },
   "file_extension": ".py",
   "mimetype": "text/x-python",
   "name": "python",
   "nbconvert_exporter": "python",
   "pygments_lexer": "ipython3",
   "version": "3.12.5"
  }
 },
 "nbformat": 4,
 "nbformat_minor": 2
}
